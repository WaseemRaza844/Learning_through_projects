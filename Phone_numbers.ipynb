{
  "nbformat": 4,
  "nbformat_minor": 0,
  "metadata": {
    "colab": {
      "name": "Untitled0.ipynb",
      "provenance": [],
      "authorship_tag": "ABX9TyN6sgvuJDsrRqPJs/rUNLR7",
      "include_colab_link": true
    },
    "kernelspec": {
      "name": "python3",
      "display_name": "Python 3"
    },
    "language_info": {
      "name": "python"
    }
  },
  "cells": [
    {
      "cell_type": "markdown",
      "metadata": {
        "id": "view-in-github",
        "colab_type": "text"
      },
      "source": [
        "<a href=\"https://colab.research.google.com/github/WaseemRaza844/Learning_through_projects/blob/main/Phone_numbers.ipynb\" target=\"_parent\"><img src=\"https://colab.research.google.com/assets/colab-badge.svg\" alt=\"Open In Colab\"/></a>"
      ]
    },
    {
      "cell_type": "code",
      "metadata": {
        "colab": {
          "base_uri": "https://localhost:8080/"
        },
        "id": "41xfXlayAgVw",
        "outputId": "5ac46fd0-e8db-455d-f4f7-fafb786538e4"
      },
      "source": [
        "pip install phonenumbers"
      ],
      "execution_count": 1,
      "outputs": [
        {
          "output_type": "stream",
          "text": [
            "Collecting phonenumbers\n",
            "\u001b[?25l  Downloading https://files.pythonhosted.org/packages/4d/12/2c57cc40baa4c3bea5630b13383894d552ec0e3d67b350067ff7fb2e04c8/phonenumbers-8.12.21-py2.py3-none-any.whl (2.6MB)\n",
            "\u001b[K     |████████████████████████████████| 2.6MB 7.9MB/s \n",
            "\u001b[?25hInstalling collected packages: phonenumbers\n",
            "Successfully installed phonenumbers-8.12.21\n"
          ],
          "name": "stdout"
        }
      ]
    },
    {
      "cell_type": "code",
      "metadata": {
        "colab": {
          "base_uri": "https://localhost:8080/"
        },
        "id": "IX3Ud1QgAeCE",
        "outputId": "55d3d3d1-392a-41fa-b8d8-eb6de2137450"
      },
      "source": [
        "import phonenumbers\n",
        "from phonenumbers import geocoder\n",
        "from phonenumbers import carrier \n",
        "phone_number1 = phonenumbers.parse(\"+19188143150\")\n",
        "print(phone_number1)\n",
        "print(geocoder.description_for_number(phone_number1,'en'))\n",
        "print(carrier.name_for_number(phone_number1,'en')) \n",
        "phone_number2 = phonenumbers.parse(\"+19188143150\")\n",
        "print(geocoder.description_for_number(phone_number2,'en'))"
      ],
      "execution_count": 3,
      "outputs": [
        {
          "output_type": "stream",
          "text": [
            "Country Code: 1 National Number: 9188143150\n",
            "Oklahoma\n",
            "\n",
            "Oklahoma\n"
          ],
          "name": "stdout"
        }
      ]
    },
    {
      "cell_type": "code",
      "metadata": {
        "id": "w8fr-AidAuBA"
      },
      "source": [
        ""
      ],
      "execution_count": null,
      "outputs": []
    }
  ]
}